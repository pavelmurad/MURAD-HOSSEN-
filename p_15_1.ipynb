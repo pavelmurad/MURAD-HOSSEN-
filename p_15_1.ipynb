{
  "nbformat": 4,
  "nbformat_minor": 0,
  "metadata": {
    "colab": {
      "provenance": [],
      "include_colab_link": true
    },
    "kernelspec": {
      "name": "python3",
      "display_name": "Python 3"
    },
    "language_info": {
      "name": "python"
    }
  },
  "cells": [
    {
      "cell_type": "markdown",
      "metadata": {
        "id": "view-in-github",
        "colab_type": "text"
      },
      "source": [
        "<a href=\"https://colab.research.google.com/github/pavelmurad/MURAD-HOSSEN-/blob/main/p_15_1.ipynb\" target=\"_parent\"><img src=\"https://colab.research.google.com/assets/colab-badge.svg\" alt=\"Open In Colab\"/></a>"
      ]
    },
    {
      "cell_type": "code",
      "execution_count": 31,
      "metadata": {
        "id": "B8L2kHwxD8m7"
      },
      "outputs": [],
      "source": [
        "try:\n",
        "    import dolfinx\n",
        "except ImportError:\n",
        "    !wget \"https://fem-on-colab.github.io/releases/fenicsx-install-real.sh\" -O \"/tmp/fenicsx-install.sh\" && bash \"/tmp/fenicsx-install.sh\""
      ]
    },
    {
      "cell_type": "code",
      "source": [
        "import dolfinx"
      ],
      "metadata": {
        "id": "62BdZTH2EbA3"
      },
      "execution_count": 32,
      "outputs": []
    },
    {
      "cell_type": "code",
      "source": [
        "\n",
        "import ufl\n",
        "import numpy as np\n",
        "\n",
        "from petsc4py import PETSc\n",
        "from mpi4py import MPI\n",
        "\n",
        "from dolfinx import fem, mesh, io, plot\n",
        "from petsc4py.PETSc import ScalarType\n",
        "from dolfinx.fem.petsc import LinearProblem\n",
        "from ufl import inner, grad, dx\n"
      ],
      "metadata": {
        "id": "bkj3SI5EPBfo"
      },
      "execution_count": 33,
      "outputs": []
    },
    {
      "cell_type": "code",
      "source": [
        "# Set manually the values for meshsize and acoef\n",
        "N = 100\n",
        "acoef = 0.1\n",
        "\n",
        "msh = mesh.create_unit_square(MPI.COMM_WORLD, N, N)\n",
        "x = ufl.SpatialCoordinate(msh)\n",
        "V = fem.functionspace(msh, (\"Lagrange\", 1))"
      ],
      "metadata": {
        "id": "dr4ZelziURax"
      },
      "execution_count": 34,
      "outputs": []
    },
    {
      "cell_type": "code",
      "source": [
        "\n",
        "\n",
        "# Create boundary condition\n",
        "fdim = msh.topology.dim - 1\n",
        "facet = mesh.locate_entities_boundary(msh, dim=fdim,\n",
        "                                       marker=lambda x: np.isclose(x[0], 0.0))\n"
      ],
      "metadata": {
        "id": "XsnIcSxIPiMv"
      },
      "execution_count": 35,
      "outputs": []
    },
    {
      "cell_type": "code",
      "source": [
        "dofs = fem.locate_dofs_topological(V=V, entity_dim=1, entities=facet)"
      ],
      "metadata": {
        "id": "TrczLFgXElOz"
      },
      "execution_count": 36,
      "outputs": []
    },
    {
      "cell_type": "code",
      "source": [
        "g = fem.Function(V)\n",
        "g.interpolate(lambda x : (x[1]**2)*(1.0-(2.0/3.0)*x[1]))\n"
      ],
      "metadata": {
        "id": "AgOrQOx4WBNc"
      },
      "execution_count": 37,
      "outputs": []
    },
    {
      "cell_type": "code",
      "source": [
        "bc = fem.dirichletbc(g, dofs=dofs)"
      ],
      "metadata": {
        "id": "2P-tn6gFFiBl"
      },
      "execution_count": 38,
      "outputs": []
    },
    {
      "cell_type": "code",
      "source": [
        "#Defining variational problem\n",
        "\n",
        "u = ufl.TrialFunction(V)\n",
        "v = ufl.TestFunction(V)\n",
        "\n",
        "f = fem.Function(V)\n",
        "f.interpolate(lambda x: 1 - x[0])\n",
        "bee = fem.Constant(msh,ScalarType((1,0)))\n",
        "a = acoef*inner(grad(u),grad(v))*dx  + inner(bee,grad(u))*v*dx\n",
        "L = inner(f,v)*dx"
      ],
      "metadata": {
        "id": "a4T27QyYMprn"
      },
      "execution_count": 39,
      "outputs": []
    },
    {
      "cell_type": "code",
      "source": [
        "# compute solution\n",
        "problem = LinearProblem(a, L, bcs=[bc], petsc_options={\"ksp_type\": \"preonly\", \"pc_type\": \"lu\"})\n",
        "uh = problem.solve()"
      ],
      "metadata": {
        "id": "C96kfw3TNyV8"
      },
      "execution_count": 40,
      "outputs": []
    },
    {
      "cell_type": "code",
      "source": [
        "with io.XDMFFile(msh.comm, \"advection.xdmf\", \"w\") as file:\n",
        "    file.write_mesh(msh)\n",
        "    file.write_function(uh)"
      ],
      "metadata": {
        "id": "MqxTtMV9N6c0"
      },
      "execution_count": 41,
      "outputs": []
    },
    {
      "cell_type": "code",
      "source": [],
      "metadata": {
        "id": "vq14zEm6aUpX"
      },
      "execution_count": 41,
      "outputs": []
    }
  ]
}